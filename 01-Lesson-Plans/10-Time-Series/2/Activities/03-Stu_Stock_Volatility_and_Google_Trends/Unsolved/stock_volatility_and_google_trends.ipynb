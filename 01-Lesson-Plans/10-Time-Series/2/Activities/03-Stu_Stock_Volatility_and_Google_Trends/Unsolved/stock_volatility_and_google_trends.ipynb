{
 "cells": [
  {
   "cell_type": "markdown",
   "metadata": {},
   "source": [
    "# Stock Volatility and Google Trends\n",
    "\n",
    "In this activity, you’ll analyze time series data about Apple to identify any correlations among Google Trends, the stock price returns, and the stock volatility.\n",
    "\n",
    "Instructions\n",
    "\n",
    "Do a time series analysis of Apple from October 2015 to October 2020. Evaluate if any predictable relationship exists among the Google Trends data, Apple’s stock price, and Apple’s volatility and return metrics. To do all of that, complete the steps in the following two sections.\n",
    "\n",
    "#### Set Up and Visualize the Data\n",
    "\n",
    "1. Read the time series data into two Pandas DataFrames, `df_stock` and `df_trends`. Set the “date” column as the index for each of these DataFrames.\n",
    "\n",
    "2. Concatenate the `df_stock` DataFrame to the `df_trends` DataFrame, creating a single DataFrame named `df_apple`.\n",
    "\n",
    "3. Create a plot of the concatenated DataFrame by using hvPlot to visually analyze any trends and correlations. Do you observe any seasonal patterns?\n",
    "\n",
    "    > **Hint** You might find it useful to refer to the [Apple Events page](https://www.apple.com/apple-events/) and the [Timeline of Apple Inc. products](https://en.wikipedia.org/wiki/Timeline_of_Apple_Inc._products) to spotlight moments over time that could have triggered a particular pattern.\n",
    "\n",
    "#### Build Time Trends\n",
    "\n",
    "1. Note that on September 10, 2019, Apple organized an event where it presented the new iPhone 11 family, the Apple Watch Series 5, and a new iPad. This event gained worldwide attention.\n",
    "\n",
    "2. Closely examine the data from March 1, 2019 to January 31, 2020.\n",
    "\n",
    "3. Create a plot by using hvPlot, and then identify whether both time series indicate a common trend that might correspond to this narrative.\n",
    "\n",
    "4. Before seeking any correlations between these time series, add columns to the `df_apple` DataFrame to analyze the impact of the Google Trends data on the weekly returns and stock volatility, as follows:\n",
    "\n",
    "    1. Use the Pandas `shift` function to add a new column that lags the Google Trends data by one period.\n",
    "\n",
    "        > **Hint** Google Trends data is reported every week on Sunday, so you have a weekly period in this time series.\n",
    "\n",
    "    2. Use the Pandas `pct_change` function to add a new column that has the weekly price returns.\n",
    "\n",
    "    3. Compute the rolling stock volatility for Apple by using the following Pandas method:\n",
    "        `df_apple[\"weekly_volatility\"] = df_apple[\"close\"].pct_change().rolling(window=4).std()`\n",
    "\n",
    "5. Use the Pandas `corr` function to compute the correlations among the lagged Google Trends data, the price returns, and the stock volatility. Does any predictable relationship exist?\n",
    "\n",
    "\n",
    "References\n",
    "\n",
    "- [Pandas concat function](https://pandas.pydata.org/pandas-docs/stable/reference/api/pandas.concat.html)\n",
    "\n",
    "- [Pandas rolling function](https://pandas.pydata.org/pandas-docs/stable/reference/api/pandas.DataFrame.rolling.html)\n",
    "\n",
    "- [Pandas std function](https://pandas.pydata.org/pandas-docs/stable/reference/api/pandas.DataFrame.std.html)\n",
    "\n",
    "- [Pandas corr function](https://pandas.pydata.org/pandas-docs/stable/reference/api/pandas.DataFrame.corr.html)\n"
   ]
  },
  {
   "cell_type": "code",
   "execution_count": 20,
   "metadata": {},
   "outputs": [],
   "source": [
    "# Import the required libraries and dependencies\n",
    "import numpy as np\n",
    "import pandas as pd\n",
    "import hvplot.pandas\n",
    "from path import Path\n",
    "\n",
    "%matplotlib inline"
   ]
  },
  {
   "cell_type": "markdown",
   "metadata": {},
   "source": [
    "## Set up and Visualize the Data"
   ]
  },
  {
   "cell_type": "markdown",
   "metadata": {},
   "source": [
    "### Step 1: Read the time series data into two Pandas DataFrames, `df_stock` and `df_trends`. Set the “date” column as the index for each of these DataFrames."
   ]
  },
  {
   "cell_type": "code",
   "execution_count": 21,
   "metadata": {},
   "outputs": [
    {
     "data": {
      "text/html": [
       "<div>\n",
       "<style scoped>\n",
       "    .dataframe tbody tr th:only-of-type {\n",
       "        vertical-align: middle;\n",
       "    }\n",
       "\n",
       "    .dataframe tbody tr th {\n",
       "        vertical-align: top;\n",
       "    }\n",
       "\n",
       "    .dataframe thead th {\n",
       "        text-align: right;\n",
       "    }\n",
       "</style>\n",
       "<table border=\"1\" class=\"dataframe\">\n",
       "  <thead>\n",
       "    <tr style=\"text-align: right;\">\n",
       "      <th></th>\n",
       "      <th>close</th>\n",
       "    </tr>\n",
       "    <tr>\n",
       "      <th>date</th>\n",
       "      <th></th>\n",
       "    </tr>\n",
       "  </thead>\n",
       "  <tbody>\n",
       "    <tr>\n",
       "      <th>2015-10-19</th>\n",
       "      <td>27.93</td>\n",
       "    </tr>\n",
       "    <tr>\n",
       "      <th>2015-10-20</th>\n",
       "      <td>28.44</td>\n",
       "    </tr>\n",
       "    <tr>\n",
       "      <th>2015-10-21</th>\n",
       "      <td>28.44</td>\n",
       "    </tr>\n",
       "    <tr>\n",
       "      <th>2015-10-22</th>\n",
       "      <td>28.88</td>\n",
       "    </tr>\n",
       "    <tr>\n",
       "      <th>2015-10-23</th>\n",
       "      <td>29.77</td>\n",
       "    </tr>\n",
       "  </tbody>\n",
       "</table>\n",
       "</div>"
      ],
      "text/plain": [
       "            close\n",
       "date             \n",
       "2015-10-19  27.93\n",
       "2015-10-20  28.44\n",
       "2015-10-21  28.44\n",
       "2015-10-22  28.88\n",
       "2015-10-23  29.77"
      ]
     },
     "execution_count": 21,
     "metadata": {},
     "output_type": "execute_result"
    }
   ],
   "source": [
    "# Read the data from the apple-price.csv file into a Pandas DataFrame\n",
    "df_stock = pd.read_csv(Path(\"../Resources/aapl-price.csv\"),\n",
    "    index_col=\"date\",\n",
    "    parse_dates=True\n",
    ")\n",
    "\n",
    "# Review the DataFrame\n",
    "df_stock.head()\n"
   ]
  },
  {
   "cell_type": "code",
   "execution_count": 22,
   "metadata": {},
   "outputs": [
    {
     "data": {
      "text/html": [
       "<div>\n",
       "<style scoped>\n",
       "    .dataframe tbody tr th:only-of-type {\n",
       "        vertical-align: middle;\n",
       "    }\n",
       "\n",
       "    .dataframe tbody tr th {\n",
       "        vertical-align: top;\n",
       "    }\n",
       "\n",
       "    .dataframe thead th {\n",
       "        text-align: right;\n",
       "    }\n",
       "</style>\n",
       "<table border=\"1\" class=\"dataframe\">\n",
       "  <thead>\n",
       "    <tr style=\"text-align: right;\">\n",
       "      <th></th>\n",
       "      <th>trend-worldwide</th>\n",
       "    </tr>\n",
       "    <tr>\n",
       "      <th>date</th>\n",
       "      <th></th>\n",
       "    </tr>\n",
       "  </thead>\n",
       "  <tbody>\n",
       "    <tr>\n",
       "      <th>2015-10-23</th>\n",
       "      <td>32</td>\n",
       "    </tr>\n",
       "    <tr>\n",
       "      <th>2015-10-30</th>\n",
       "      <td>33</td>\n",
       "    </tr>\n",
       "    <tr>\n",
       "      <th>2015-11-06</th>\n",
       "      <td>32</td>\n",
       "    </tr>\n",
       "    <tr>\n",
       "      <th>2015-11-13</th>\n",
       "      <td>32</td>\n",
       "    </tr>\n",
       "    <tr>\n",
       "      <th>2015-11-20</th>\n",
       "      <td>31</td>\n",
       "    </tr>\n",
       "  </tbody>\n",
       "</table>\n",
       "</div>"
      ],
      "text/plain": [
       "            trend-worldwide\n",
       "date                       \n",
       "2015-10-23               32\n",
       "2015-10-30               33\n",
       "2015-11-06               32\n",
       "2015-11-13               32\n",
       "2015-11-20               31"
      ]
     },
     "execution_count": 22,
     "metadata": {},
     "output_type": "execute_result"
    }
   ],
   "source": [
    "# Read the data from the apple-trends.csv file into a Pandas DataFrame\n",
    "df_trends = pd.read_csv(Path(\"../Resources/apple-trends.csv\"),\n",
    "    index_col=\"date\",\n",
    "    parse_dates=True\n",
    ")\n",
    "\n",
    "# Review the DataFrame\n",
    "df_trends.head()\n"
   ]
  },
  {
   "cell_type": "markdown",
   "metadata": {},
   "source": [
    "#### Step 2: Concatenate the `df_stock` DataFrame to the `df_trends` DataFrame, creating a single DataFrame named `df_apple`.\n",
    "\n",
    "> **Rewind** Concatenation: Two DataFrames that have the same `datetime` index can be merged using `pd.concat`. The `axis=1` parameter means that we're bringing the columns of the two DataFrames together."
   ]
  },
  {
   "cell_type": "code",
   "execution_count": 23,
   "metadata": {},
   "outputs": [
    {
     "data": {
      "text/html": [
       "<div>\n",
       "<style scoped>\n",
       "    .dataframe tbody tr th:only-of-type {\n",
       "        vertical-align: middle;\n",
       "    }\n",
       "\n",
       "    .dataframe tbody tr th {\n",
       "        vertical-align: top;\n",
       "    }\n",
       "\n",
       "    .dataframe thead th {\n",
       "        text-align: right;\n",
       "    }\n",
       "</style>\n",
       "<table border=\"1\" class=\"dataframe\">\n",
       "  <thead>\n",
       "    <tr style=\"text-align: right;\">\n",
       "      <th></th>\n",
       "      <th>close</th>\n",
       "      <th>trend-worldwide</th>\n",
       "    </tr>\n",
       "    <tr>\n",
       "      <th>date</th>\n",
       "      <th></th>\n",
       "      <th></th>\n",
       "    </tr>\n",
       "  </thead>\n",
       "  <tbody>\n",
       "    <tr>\n",
       "      <th>2015-10-23</th>\n",
       "      <td>29.77</td>\n",
       "      <td>32</td>\n",
       "    </tr>\n",
       "    <tr>\n",
       "      <th>2015-10-30</th>\n",
       "      <td>29.88</td>\n",
       "      <td>33</td>\n",
       "    </tr>\n",
       "    <tr>\n",
       "      <th>2015-11-06</th>\n",
       "      <td>30.27</td>\n",
       "      <td>32</td>\n",
       "    </tr>\n",
       "    <tr>\n",
       "      <th>2015-11-13</th>\n",
       "      <td>28.09</td>\n",
       "      <td>32</td>\n",
       "    </tr>\n",
       "    <tr>\n",
       "      <th>2015-11-20</th>\n",
       "      <td>29.83</td>\n",
       "      <td>31</td>\n",
       "    </tr>\n",
       "    <tr>\n",
       "      <th>...</th>\n",
       "      <td>...</td>\n",
       "      <td>...</td>\n",
       "    </tr>\n",
       "    <tr>\n",
       "      <th>2020-09-11</th>\n",
       "      <td>112.00</td>\n",
       "      <td>37</td>\n",
       "    </tr>\n",
       "    <tr>\n",
       "      <th>2020-09-18</th>\n",
       "      <td>106.84</td>\n",
       "      <td>52</td>\n",
       "    </tr>\n",
       "    <tr>\n",
       "      <th>2020-09-25</th>\n",
       "      <td>112.28</td>\n",
       "      <td>42</td>\n",
       "    </tr>\n",
       "    <tr>\n",
       "      <th>2020-10-02</th>\n",
       "      <td>113.02</td>\n",
       "      <td>38</td>\n",
       "    </tr>\n",
       "    <tr>\n",
       "      <th>2020-10-09</th>\n",
       "      <td>116.97</td>\n",
       "      <td>36</td>\n",
       "    </tr>\n",
       "  </tbody>\n",
       "</table>\n",
       "<p>252 rows × 2 columns</p>\n",
       "</div>"
      ],
      "text/plain": [
       "             close  trend-worldwide\n",
       "date                               \n",
       "2015-10-23   29.77               32\n",
       "2015-10-30   29.88               33\n",
       "2015-11-06   30.27               32\n",
       "2015-11-13   28.09               32\n",
       "2015-11-20   29.83               31\n",
       "...            ...              ...\n",
       "2020-09-11  112.00               37\n",
       "2020-09-18  106.84               52\n",
       "2020-09-25  112.28               42\n",
       "2020-10-02  113.02               38\n",
       "2020-10-09  116.97               36\n",
       "\n",
       "[252 rows x 2 columns]"
      ]
     },
     "execution_count": 23,
     "metadata": {},
     "output_type": "execute_result"
    }
   ],
   "source": [
    "# Concatenate Apple's stock price and Google trends data\n",
    "# Use a parameter of axis=1 to ensure the concatenation by columns\n",
    "# Chain the dropna function to remove any rows of data that do not \n",
    "# contain information in both columns\n",
    "df_concat= pd.concat([df_stock, df_trends], axis=\"columns\", join=\"inner\").dropna()\n",
    "\n",
    "# Review the df_apple DataFrame\n",
    "df_concat\n"
   ]
  },
  {
   "cell_type": "markdown",
   "metadata": {},
   "source": [
    "### Step 3: Create a plot of the concatenated DataFrame by using hvPlot to visually analyze any trends and correlations. Do you observe any seasonal patterns?\n",
    "\n",
    "> **Hint** You might find it useful to refer to the [Apple Events page](https://www.apple.com/apple-events/) and the [Timeline of Apple Inc. products](https://en.wikipedia.org/wiki/Timeline_of_Apple_Inc._products) to spotlight moments over time that could have triggered a particular pattern."
   ]
  },
  {
   "cell_type": "code",
   "execution_count": 26,
   "metadata": {},
   "outputs": [
    {
     "data": {
      "text/plain": [
       "<AxesSubplot:xlabel='date'>"
      ]
     },
     "execution_count": 26,
     "metadata": {},
     "output_type": "execute_result"
    },
    {
     "data": {
      "image/png": "[encoded data removed]",
      "text/plain": [
       "<Figure size 432x288 with 1 Axes>"
      ]
     },
     "metadata": {
      "needs_background": "light"
     },
     "output_type": "display_data"
    }
   ],
   "source": [
    "# Use hvplot to visualize the time series data in the df_apple DataFrame\n",
    "df_concat.plot()"
   ]
  },
  {
   "cell_type": "markdown",
   "metadata": {},
   "source": [
    "## Building Time Trends"
   ]
  },
  {
   "cell_type": "markdown",
   "metadata": {},
   "source": [
    "### Step 1: Note that on September 10, 2019, Apple organized an event where it presented the new iPhone 11 family, the Apple Watch Series 5, and a new iPad. This event gained worldwide attention."
   ]
  },
  {
   "cell_type": "markdown",
   "metadata": {},
   "source": [
    "### Step 2: Closely examine the data from March 1, 2019 to January 31, 2020."
   ]
  },
  {
   "cell_type": "code",
   "execution_count": 31,
   "metadata": {
    "scrolled": true
   },
   "outputs": [
    {
     "data": {},
     "metadata": {},
     "output_type": "display_data"
    },
    {
     "data": {
      "application/vnd.holoviews_exec.v0+json": "",
      "text/html": [
       "<div id='3684'>\n",
       "\n",
       "\n",
       "\n",
       "\n",
       "\n",
       "  <div class=\"bk-root\" id=\"3f26490c-9af7-4754-85f4-9e063358ad73\" data-root-id=\"3684\"></div>\n",
       "</div>\n",
       "<script type=\"application/javascript\">(function(root) {\n",
       "  function embed_document(root) {\n",
       "    var docs_json = {\"d8ccd312-0a6e-4a95-983a-ecf7555f1003\":{\"defs\":[{\"extends\":null,\"module\":null,\"name\":\"ReactiveHTML1\",\"overrides\":[],\"properties\":[]},{\"extends\":null,\"module\":null,\"name\":\"FlexBox1\",\"overrides\":[],\"properties\":[{\"default\":\"flex-start\",\"kind\":null,\"name\":\"align_content\"},{\"default\":\"flex-start\",\"kind\":null,\"name\":\"align_items\"},{\"default\":\"row\",\"kind\":null,\"name\":\"flex_direction\"},{\"default\":\"wrap\",\"kind\":null,\"name\":\"flex_wrap\"},{\"default\":\"flex-start\",\"kind\":null,\"name\":\"justify_content\"}]},{\"extends\":null,\"module\":null,\"name\":\"TemplateActions1\",\"overrides\":[],\"properties\":[{\"default\":0,\"kind\":null,\"name\":\"open_modal\"},{\"default\":0,\"kind\":null,\"name\":\"close_modal\"}]},{\"extends\":null,\"module\":null,\"name\":\"MaterialTemplateActions1\",\"overrides\":[],\"properties\":[{\"default\":0,\"kind\":null,\"name\":\"open_modal\"},{\"default\":0,\"kind\":null,\"name\":\"close_modal\"}]}],\"roots\":{\"references\":[{\"attributes\":{},\"id\":\"3722\",\"type\":\"AllLabels\"},{\"attributes\":{\"base\":60,\"mantissas\":[1,2,5,10,15,20,30],\"max_interval\":1800000.0,\"min_interval\":1000.0,\"num_minor_ticks\":0},\"id\":\"3745\",\"type\":\"AdaptiveTicker\"},{\"attributes\":{\"months\":[0,2,4,6,8,10]},\"id\":\"3752\",\"type\":\"MonthsTicker\"},{\"attributes\":{\"mantissas\":[1,2,5],\"max_interval\":500.0,\"num_minor_ticks\":0},\"id\":\"3744\",\"type\":\"AdaptiveTicker\"},{\"attributes\":{\"line_color\":\"#30a2da\",\"line_width\":2,\"x\":{\"field\":\"date\"},\"y\":{\"field\":\"value\"}},\"id\":\"3729\",\"type\":\"Line\"},{\"attributes\":{},\"id\":\"3725\",\"type\":\"AllLabels\"},{\"attributes\":{\"months\":[0,4,8]},\"id\":\"3753\",\"type\":\"MonthsTicker\"},{\"attributes\":{\"tools\":[{\"id\":\"3688\"},{\"id\":\"3707\"},{\"id\":\"3708\"},{\"id\":\"3709\"},{\"id\":\"3710\"},{\"id\":\"3711\"}]},\"id\":\"3713\",\"type\":\"Toolbar\"},{\"attributes\":{\"children\":[{\"id\":\"3685\"},{\"id\":\"3690\"},{\"id\":\"4009\"}],\"margin\":[0,0,0,0],\"name\":\"Row04319\",\"tags\":[\"embedded\"]},\"id\":\"3684\",\"type\":\"Row\"},{\"attributes\":{\"line_alpha\":0.2,\"line_color\":\"#fc4f30\",\"line_width\":2,\"x\":{\"field\":\"date\"},\"y\":{\"field\":\"value\"}},\"id\":\"3764\",\"type\":\"Line\"},{\"attributes\":{\"bottom_units\":\"screen\",\"coordinates\":null,\"fill_alpha\":0.5,\"fill_color\":\"lightgrey\",\"group\":null,\"left_units\":\"screen\",\"level\":\"overlay\",\"line_alpha\":1.0,\"line_color\":\"black\",\"line_dash\":[4,4],\"line_width\":2,\"right_units\":\"screen\",\"syncable\":false,\"top_units\":\"screen\"},\"id\":\"3712\",\"type\":\"BoxAnnotation\"},{\"attributes\":{\"line_alpha\":0.1,\"line_color\":\"#30a2da\",\"line_width\":2,\"x\":{\"field\":\"date\"},\"y\":{\"field\":\"value\"}},\"id\":\"3730\",\"type\":\"Line\"},{\"attributes\":{\"line_alpha\":0.2,\"line_color\":\"#30a2da\",\"line_width\":2,\"x\":{\"field\":\"date\"},\"y\":{\"field\":\"value\"}},\"id\":\"3731\",\"type\":\"Line\"},{\"attributes\":{},\"id\":\"3707\",\"type\":\"SaveTool\"},{\"attributes\":{\"months\":[0,6]},\"id\":\"3754\",\"type\":\"MonthsTicker\"},{\"attributes\":{},\"id\":\"3708\",\"type\":\"PanTool\"},{\"attributes\":{\"end\":107.3,\"reset_end\":107.3,\"reset_start\":19.7,\"start\":19.7,\"tags\":[[[\"value\",\"value\",null]]]},\"id\":\"3687\",\"type\":\"Range1d\"},{\"attributes\":{\"source\":{\"id\":\"3726\"}},\"id\":\"3733\",\"type\":\"CDSView\"},{\"attributes\":{},\"id\":\"3711\",\"type\":\"ResetTool\"},{\"attributes\":{\"axis_label\":\"date\",\"coordinates\":null,\"formatter\":{\"id\":\"3721\"},\"group\":null,\"major_label_policy\":{\"id\":\"3722\"},\"ticker\":{\"id\":\"3700\"}},\"id\":\"3699\",\"type\":\"DatetimeAxis\"},{\"attributes\":{},\"id\":\"3709\",\"type\":\"WheelZoomTool\"},{\"attributes\":{\"coordinates\":null,\"data_source\":{\"id\":\"3726\"},\"glyph\":{\"id\":\"3729\"},\"group\":null,\"hover_glyph\":null,\"muted_glyph\":{\"id\":\"3731\"},\"nonselection_glyph\":{\"id\":\"3730\"},\"selection_glyph\":{\"id\":\"3758\"},\"view\":{\"id\":\"3733\"}},\"id\":\"3732\",\"type\":\"GlyphRenderer\"},{\"attributes\":{},\"id\":\"3724\",\"type\":\"BasicTickFormatter\"},{\"attributes\":{\"overlay\":{\"id\":\"3712\"}},\"id\":\"3710\",\"type\":\"BoxZoomTool\"},{\"attributes\":{\"label\":{\"value\":\"close\"},\"renderers\":[{\"id\":\"3732\"}]},\"id\":\"3757\",\"type\":\"LegendItem\"},{\"attributes\":{},\"id\":\"3776\",\"type\":\"UnionRenderers\"},{\"attributes\":{\"data\":{\"Variable\":[\"close\",\"close\",\"close\",\"close\",\"close\",\"close\",\"close\",\"close\",\"close\",\"close\",\"close\",\"close\",\"close\",\"close\",\"close\",\"close\",\"close\",\"close\",\"close\",\"close\",\"close\",\"close\",\"close\",\"close\",\"close\",\"close\",\"close\",\"close\",\"close\",\"close\",\"close\",\"close\",\"close\",\"close\",\"close\",\"close\",\"close\",\"close\",\"close\",\"close\",\"close\",\"close\",\"close\",\"close\",\"close\",\"close\",\"close\",\"close\"],\"date\":{\"__ndarray__\":\"AAAAz2iTdkIAAECXqZV2QgAAgF/ql3ZCAADAJyuadkIAAADwa5x2QgAAQLisnnZCAACAgO2gdkIAAAARb6V2QgAAQNmvp3ZCAACAofCpdkIAAMBpMax2QgAAADJyrnZCAABA+rKwdkIAAIDC87J2QgAAwIo0tXZCAAAAU3W3dkIAAEAbtrl2QgAAgOP2u3ZCAADAqze+dkIAAAB0eMB2QgAAQDy5wnZCAACABPrEdkIAAMDMOsd2QgAAAJV7yXZCAABAXbzLdkIAAIAl/c12QgAAwO090HZCAAAAtn7SdkIAAEB+v9R2QgAAgEYA13ZCAADADkHZdkIAAADXgdt2QgAAQJ/C3XZCAACAZwPgdkIAAMAvROJ2QgAAAPiE5HZCAABAwMXmdkIAAICIBul2QgAAwFBH63ZCAAAAGYjtdkIAAEDhyO92QgAAgKkJ8nZCAADAcUr0dkIAAAA6i/Z2QgAAQALM+HZCAACAygz7dkIAAMCSTf12QgAAAFuO/3ZC\",\"dtype\":\"float64\",\"order\":\"little\",\"shape\":[48]},\"value\":{\"__ndarray__\":\"H4XrUbjeRUA9CtejcJ1FQKRwPQrXQ0dA4XoUrkfhR0AfhetRuL5HQAAAAAAAoEhAXI/C9SjcSEAK16NwPYpJQLgehetReEpAZmZmZmamSEAAAAAAAKBHQB+F61G4XkZAw/UoXI/iRUCF61G4HsVHQLgehetRGEhAmpmZmZnZSEA9CtejcL1IQEjhehSuh0lACtejcD1qSUAzMzMzM1NJQLgehetR+ElA4XoUrkeBSUAAAAAAACBJQHE9Ctej0ElAFK5H4XpUSUC4HoXrURhKQClcj8L1qEpAuB6F61FYS0DXo3A9CjdLQHsUrkfhWktAAAAAAABgTEBmZmZmZoZNQM3MzMzMjE1AMzMzMzPTTkB7FK5H4fpPQMP1KFyPQlBAXI/C9SicUEBcj8L1KFxQQKRwPQrXs1BA7FG4HoXrUEDD9ShcjzJRQNejcD0Kd1FAzczMzMwcUkDXo3A9CpdSQIXrUbgeZVNA7FG4HoXrU0CF61G4HuVTQLgehetRWFNA\",\"dtype\":\"float64\",\"order\":\"little\",\"shape\":[48]}},\"selected\":{\"id\":\"3727\"},\"selection_policy\":{\"id\":\"3741\"}},\"id\":\"3726\",\"type\":\"ColumnDataSource\"},{\"attributes\":{\"num_minor_ticks\":5,\"tickers\":[{\"id\":\"3744\"},{\"id\":\"3745\"},{\"id\":\"3746\"},{\"id\":\"3747\"},{\"id\":\"3748\"},{\"id\":\"3749\"},{\"id\":\"3750\"},{\"id\":\"3751\"},{\"id\":\"3752\"},{\"id\":\"3753\"},{\"id\":\"3754\"},{\"id\":\"3755\"}]},\"id\":\"3700\",\"type\":\"DatetimeTicker\"},{\"attributes\":{\"line_color\":\"#fc4f30\",\"line_width\":2,\"x\":{\"field\":\"date\"},\"y\":{\"field\":\"value\"}},\"id\":\"3792\",\"type\":\"Line\"},{\"attributes\":{},\"id\":\"3704\",\"type\":\"BasicTicker\"},{\"attributes\":{\"line_alpha\":0.1,\"line_color\":\"#fc4f30\",\"line_width\":2,\"x\":{\"field\":\"date\"},\"y\":{\"field\":\"value\"}},\"id\":\"3763\",\"type\":\"Line\"},{\"attributes\":{\"margin\":[5,5,5,5],\"name\":\"HSpacer04323\",\"sizing_mode\":\"stretch_width\"},\"id\":\"3685\",\"type\":\"Spacer\"},{\"attributes\":{},\"id\":\"3721\",\"type\":\"DatetimeTickFormatter\"},{\"attributes\":{\"coordinates\":null,\"group\":null,\"text_color\":\"black\",\"text_font_size\":\"12pt\"},\"id\":\"3691\",\"type\":\"Title\"},{\"attributes\":{\"coordinates\":null,\"data_source\":{\"id\":\"3759\"},\"glyph\":{\"id\":\"3762\"},\"group\":null,\"hover_glyph\":null,\"muted_glyph\":{\"id\":\"3764\"},\"nonselection_glyph\":{\"id\":\"3763\"},\"selection_glyph\":{\"id\":\"3792\"},\"view\":{\"id\":\"3766\"}},\"id\":\"3765\",\"type\":\"GlyphRenderer\"},{\"attributes\":{\"click_policy\":\"mute\",\"coordinates\":null,\"group\":null,\"items\":[{\"id\":\"3757\"},{\"id\":\"3791\"}],\"location\":[0,0],\"title\":\"Variable\"},\"id\":\"3756\",\"type\":\"Legend\"},{\"attributes\":{},\"id\":\"3755\",\"type\":\"YearsTicker\"},{\"attributes\":{\"end\":1580428800000.0,\"reset_end\":1580428800000.0,\"reset_start\":1551398400000.0,\"start\":1551398400000.0,\"tags\":[[[\"date\",\"date\",null]]]},\"id\":\"3686\",\"type\":\"Range1d\"},{\"attributes\":{\"label\":{\"value\":\"trend-worldwide\"},\"renderers\":[{\"id\":\"3765\"}]},\"id\":\"3791\",\"type\":\"LegendItem\"},{\"attributes\":{\"days\":[1,15]},\"id\":\"3750\",\"type\":\"DaysTicker\"},{\"attributes\":{},\"id\":\"3695\",\"type\":\"LinearScale\"},{\"attributes\":{},\"id\":\"3697\",\"type\":\"LinearScale\"},{\"attributes\":{\"axis_label\":\"\",\"coordinates\":null,\"formatter\":{\"id\":\"3724\"},\"group\":null,\"major_label_policy\":{\"id\":\"3725\"},\"ticker\":{\"id\":\"3704\"}},\"id\":\"3703\",\"type\":\"LinearAxis\"},{\"attributes\":{\"line_color\":\"#30a2da\",\"line_width\":2,\"x\":{\"field\":\"date\"},\"y\":{\"field\":\"value\"}},\"id\":\"3758\",\"type\":\"Line\"},{\"attributes\":{},\"id\":\"3760\",\"type\":\"Selection\"},{\"attributes\":{\"axis\":{\"id\":\"3699\"},\"coordinates\":null,\"grid_line_color\":null,\"group\":null,\"ticker\":null},\"id\":\"3702\",\"type\":\"Grid\"},{\"attributes\":{\"days\":[1,4,7,10,13,16,19,22,25,28]},\"id\":\"3748\",\"type\":\"DaysTicker\"},{\"attributes\":{\"callback\":null,\"formatters\":{\"@{date}\":\"datetime\"},\"renderers\":[{\"id\":\"3732\"},{\"id\":\"3765\"}],\"tags\":[\"hv_created\"],\"tooltips\":[[\"Variable\",\"@{Variable}\"],[\"date\",\"@{date}{%F %T}\"],[\"value\",\"@{value}\"]]},\"id\":\"3688\",\"type\":\"HoverTool\"},{\"attributes\":{\"days\":[1,2,3,4,5,6,7,8,9,10,11,12,13,14,15,16,17,18,19,20,21,22,23,24,25,26,27,28,29,30,31]},\"id\":\"3747\",\"type\":\"DaysTicker\"},{\"attributes\":{\"margin\":[5,5,5,5],\"name\":\"HSpacer04324\",\"sizing_mode\":\"stretch_width\"},\"id\":\"4009\",\"type\":\"Spacer\"},{\"attributes\":{\"line_color\":\"#fc4f30\",\"line_width\":2,\"x\":{\"field\":\"date\"},\"y\":{\"field\":\"value\"}},\"id\":\"3762\",\"type\":\"Line\"},{\"attributes\":{},\"id\":\"3741\",\"type\":\"UnionRenderers\"},{\"attributes\":{},\"id\":\"3727\",\"type\":\"Selection\"},{\"attributes\":{\"below\":[{\"id\":\"3699\"}],\"center\":[{\"id\":\"3702\"},{\"id\":\"3706\"}],\"height\":300,\"left\":[{\"id\":\"3703\"}],\"margin\":[5,5,5,5],\"min_border_bottom\":10,\"min_border_left\":10,\"min_border_right\":10,\"min_border_top\":10,\"renderers\":[{\"id\":\"3732\"},{\"id\":\"3765\"}],\"right\":[{\"id\":\"3756\"}],\"sizing_mode\":\"fixed\",\"title\":{\"id\":\"3691\"},\"toolbar\":{\"id\":\"3713\"},\"width\":700,\"x_range\":{\"id\":\"3686\"},\"x_scale\":{\"id\":\"3695\"},\"y_range\":{\"id\":\"3687\"},\"y_scale\":{\"id\":\"3697\"}},\"id\":\"3690\",\"subtype\":\"Figure\",\"type\":\"Plot\"},{\"attributes\":{\"months\":[0,1,2,3,4,5,6,7,8,9,10,11]},\"id\":\"3751\",\"type\":\"MonthsTicker\"},{\"attributes\":{\"axis\":{\"id\":\"3703\"},\"coordinates\":null,\"dimension\":1,\"grid_line_color\":null,\"group\":null,\"ticker\":null},\"id\":\"3706\",\"type\":\"Grid\"},{\"attributes\":{\"base\":24,\"mantissas\":[1,2,4,6,8,12],\"max_interval\":43200000.0,\"min_interval\":3600000.0,\"num_minor_ticks\":0},\"id\":\"3746\",\"type\":\"AdaptiveTicker\"},{\"attributes\":{\"days\":[1,8,15,22]},\"id\":\"3749\",\"type\":\"DaysTicker\"},{\"attributes\":{\"data\":{\"Variable\":[\"trend-worldwide\",\"trend-worldwide\",\"trend-worldwide\",\"trend-worldwide\",\"trend-worldwide\",\"trend-worldwide\",\"trend-worldwide\",\"trend-worldwide\",\"trend-worldwide\",\"trend-worldwide\",\"trend-worldwide\",\"trend-worldwide\",\"trend-worldwide\",\"trend-worldwide\",\"trend-worldwide\",\"trend-worldwide\",\"trend-worldwide\",\"trend-worldwide\",\"trend-worldwide\",\"trend-worldwide\",\"trend-worldwide\",\"trend-worldwide\",\"trend-worldwide\",\"trend-worldwide\",\"trend-worldwide\",\"trend-worldwide\",\"trend-worldwide\",\"trend-worldwide\",\"trend-worldwide\",\"trend-worldwide\",\"trend-worldwide\",\"trend-worldwide\",\"trend-worldwide\",\"trend-worldwide\",\"trend-worldwide\",\"trend-worldwide\",\"trend-worldwide\",\"trend-worldwide\",\"trend-worldwide\",\"trend-worldwide\",\"trend-worldwide\",\"trend-worldwide\",\"trend-worldwide\",\"trend-worldwide\",\"trend-worldwide\",\"trend-worldwide\",\"trend-worldwide\",\"trend-worldwide\"],\"date\":{\"__ndarray__\":\"AAAAz2iTdkIAAECXqZV2QgAAgF/ql3ZCAADAJyuadkIAAADwa5x2QgAAQLisnnZCAACAgO2gdkIAAAARb6V2QgAAQNmvp3ZCAACAofCpdkIAAMBpMax2QgAAADJyrnZCAABA+rKwdkIAAIDC87J2QgAAwIo0tXZCAAAAU3W3dkIAAEAbtrl2QgAAgOP2u3ZCAADAqze+dkIAAAB0eMB2QgAAQDy5wnZCAACABPrEdkIAAMDMOsd2QgAAAJV7yXZCAABAXbzLdkIAAIAl/c12QgAAwO090HZCAAAAtn7SdkIAAEB+v9R2QgAAgEYA13ZCAADADkHZdkIAAADXgdt2QgAAQJ/C3XZCAACAZwPgdkIAAMAvROJ2QgAAAPiE5HZCAABAwMXmdkIAAICIBul2QgAAwFBH63ZCAAAAGYjtdkIAAEDhyO92QgAAgKkJ8nZCAADAcUr0dkIAAAA6i/Z2QgAAQALM+HZCAACAygz7dkIAAMCSTf12QgAAAFuO/3ZC\",\"dtype\":\"float64\",\"order\":\"little\",\"shape\":[48]},\"value\":[27,27,27,30,34,29,27,27,28,27,27,28,27,35,30,29,28,28,28,30,28,29,29,30,30,48,100,95,77,61,36,36,34,33,38,37,37,36,46,40,37,38,46,38,34,32,32,31]},\"selected\":{\"id\":\"3760\"},\"selection_policy\":{\"id\":\"3776\"}},\"id\":\"3759\",\"type\":\"ColumnDataSource\"},{\"attributes\":{\"source\":{\"id\":\"3759\"}},\"id\":\"3766\",\"type\":\"CDSView\"}],\"root_ids\":[\"3684\"]},\"title\":\"Bokeh Application\",\"version\":\"2.4.1\"}};\n",
       "    var render_items = [{\"docid\":\"d8ccd312-0a6e-4a95-983a-ecf7555f1003\",\"root_ids\":[\"3684\"],\"roots\":{\"3684\":\"3f26490c-9af7-4754-85f4-9e063358ad73\"}}];\n",
       "    root.Bokeh.embed.embed_items_notebook(docs_json, render_items);\n",
       "  }\n",
       "  if (root.Bokeh !== undefined && root.Bokeh.Panel !== undefined) {\n",
       "    embed_document(root);\n",
       "  } else {\n",
       "    var attempts = 0;\n",
       "    var timer = setInterval(function(root) {\n",
       "      if (root.Bokeh !== undefined && root.Bokeh.Panel !== undefined) {\n",
       "        clearInterval(timer);\n",
       "        embed_document(root);\n",
       "      } else if (document.readyState == \"complete\") {\n",
       "        attempts++;\n",
       "        if (attempts > 200) {\n",
       "          clearInterval(timer);\n",
       "          console.log(\"Bokeh: ERROR: Unable to run BokehJS code because BokehJS library is missing\");\n",
       "        }\n",
       "      }\n",
       "    }, 25, root)\n",
       "  }\n",
       "})(window);</script>"
      ],
      "text/plain": [
       ":NdOverlay   [Variable]\n",
       "   :Curve   [date]   (value)"
      ]
     },
     "execution_count": 31,
     "metadata": {
      "application/vnd.holoviews_exec.v0+json": {
       "id": "3684"
      }
     },
     "output_type": "execute_result"
    }
   ],
   "source": [
    "# Using the df_apple DataFrame, use the loc function to select a\n",
    "# range of data from March 1st, 2019 to January 31st, 2020\n",
    "df_spotlight = df_concat.loc[\"2019-03-01\":\"2020-01-31\"]\n",
    "\n",
    "# Review the df_spotlight DataFrame\n",
    "df_spotlight.hvplot()\n"
   ]
  },
  {
   "cell_type": "markdown",
   "metadata": {},
   "source": [
    "### Step 3: Create a plot by using hvPlot, and then identify whether both time series indicate a common trend that might correspond to this narrative."
   ]
  },
  {
   "cell_type": "code",
   "execution_count": null,
   "metadata": {},
   "outputs": [
    {
     "data": {
      "application/vnd.holoviews_exec.v0+json": "",
      "text/html": [
       "<div id='1412'>\n",
       "\n",
       "\n",
       "\n",
       "\n",
       "\n",
       "  <div class=\"bk-root\" id=\"ed0a1260-c744-462e-8c3c-c2abd9443124\" data-root-id=\"1412\"></div>\n",
       "</div>\n",
       "<script type=\"application/javascript\">(function(root) {\n",
       "  function embed_document(root) {\n",
       "    var docs_json = {\"368861e8-8f11-40b1-9596-0c6e922da84d\":{\"roots\":{\"references\":[{\"attributes\":{\"days\":[1,4,7,10,13,16,19,22,25,28]},\"id\":\"1470\",\"type\":\"DaysTicker\"},{\"attributes\":{\"line_alpha\":0.2,\"line_color\":\"#ff7e0e\",\"line_width\":2,\"x\":{\"field\":\"date\"},\"y\":{\"field\":\"value\"}},\"id\":\"1487\",\"type\":\"Line\"},{\"attributes\":{},\"id\":\"1450\",\"type\":\"BasicTickFormatter\"},{\"attributes\":{\"bottom_units\":\"screen\",\"fill_alpha\":0.5,\"fill_color\":\"lightgrey\",\"left_units\":\"screen\",\"level\":\"overlay\",\"line_alpha\":1.0,\"line_color\":\"black\",\"line_dash\":[4,4],\"line_width\":2,\"right_units\":\"screen\",\"top_units\":\"screen\"},\"id\":\"1440\",\"type\":\"BoxAnnotation\"},{\"attributes\":{\"days\":[1,2,3,4,5,6,7,8,9,10,11,12,13,14,15,16,17,18,19,20,21,22,23,24,25,26,27,28,29,30,31]},\"id\":\"1469\",\"type\":\"DaysTicker\"},{\"attributes\":{\"line_color\":\"#1f77b3\",\"line_width\":2,\"x\":{\"field\":\"date\"},\"y\":{\"field\":\"value\"}},\"id\":\"1455\",\"type\":\"Line\"},{\"attributes\":{\"mantissas\":[1,2,5],\"max_interval\":500.0,\"num_minor_ticks\":0},\"id\":\"1466\",\"type\":\"AdaptiveTicker\"},{\"attributes\":{\"data_source\":{\"id\":\"1482\"},\"glyph\":{\"id\":\"1485\"},\"hover_glyph\":null,\"muted_glyph\":{\"id\":\"1487\"},\"nonselection_glyph\":{\"id\":\"1486\"},\"selection_glyph\":null,\"view\":{\"id\":\"1489\"}},\"id\":\"1488\",\"type\":\"GlyphRenderer\"},{\"attributes\":{\"base\":24,\"mantissas\":[1,2,4,6,8,12],\"max_interval\":43200000.0,\"min_interval\":3600000.0,\"num_minor_ticks\":0},\"id\":\"1468\",\"type\":\"AdaptiveTicker\"},{\"attributes\":{\"active_drag\":\"auto\",\"active_inspect\":\"auto\",\"active_multi\":null,\"active_scroll\":\"auto\",\"active_tap\":\"auto\",\"tools\":[{\"id\":\"1416\"},{\"id\":\"1435\"},{\"id\":\"1436\"},{\"id\":\"1437\"},{\"id\":\"1438\"},{\"id\":\"1439\"}]},\"id\":\"1441\",\"type\":\"Toolbar\"},{\"attributes\":{\"label\":{\"value\":\"trend-worldwide\"},\"renderers\":[{\"id\":\"1488\"}]},\"id\":\"1512\",\"type\":\"LegendItem\"},{\"attributes\":{},\"id\":\"1478\",\"type\":\"UnionRenderers\"},{\"attributes\":{},\"id\":\"1435\",\"type\":\"SaveTool\"},{\"attributes\":{\"line_alpha\":0.1,\"line_color\":\"#ff7e0e\",\"line_width\":2,\"x\":{\"field\":\"date\"},\"y\":{\"field\":\"value\"}},\"id\":\"1486\",\"type\":\"Line\"},{\"attributes\":{\"margin\":[5,5,5,5],\"name\":\"HSpacer01995\",\"sizing_mode\":\"stretch_width\"},\"id\":\"1413\",\"type\":\"Spacer\"},{\"attributes\":{},\"id\":\"1436\",\"type\":\"PanTool\"},{\"attributes\":{\"end\":107.3,\"reset_end\":107.3,\"reset_start\":19.7,\"start\":19.7,\"tags\":[[[\"value\",\"value\",null]]]},\"id\":\"1415\",\"type\":\"Range1d\"},{\"attributes\":{\"source\":{\"id\":\"1482\"}},\"id\":\"1489\",\"type\":\"CDSView\"},{\"attributes\":{\"base\":60,\"mantissas\":[1,2,5,10,15,20,30],\"max_interval\":1800000.0,\"min_interval\":1000.0,\"num_minor_ticks\":0},\"id\":\"1467\",\"type\":\"AdaptiveTicker\"},{\"attributes\":{},\"id\":\"1437\",\"type\":\"WheelZoomTool\"},{\"attributes\":{\"source\":{\"id\":\"1452\"}},\"id\":\"1459\",\"type\":\"CDSView\"},{\"attributes\":{\"months\":[0,4,8]},\"id\":\"1475\",\"type\":\"MonthsTicker\"},{\"attributes\":{},\"id\":\"1453\",\"type\":\"Selection\"},{\"attributes\":{},\"id\":\"1425\",\"type\":\"LinearScale\"},{\"attributes\":{\"label\":{\"value\":\"close\"},\"renderers\":[{\"id\":\"1458\"}]},\"id\":\"1481\",\"type\":\"LegendItem\"},{\"attributes\":{},\"id\":\"1510\",\"type\":\"UnionRenderers\"},{\"attributes\":{\"children\":[{\"id\":\"1413\"},{\"id\":\"1418\"},{\"id\":\"1711\"}],\"margin\":[0,0,0,0],\"name\":\"Row01991\",\"tags\":[\"embedded\"]},\"id\":\"1412\",\"type\":\"Row\"},{\"attributes\":{\"overlay\":{\"id\":\"1440\"}},\"id\":\"1438\",\"type\":\"BoxZoomTool\"},{\"attributes\":{\"data\":{\"Variable\":[\"close\",\"close\",\"close\",\"close\",\"close\",\"close\",\"close\",\"close\",\"close\",\"close\",\"close\",\"close\",\"close\",\"close\",\"close\",\"close\",\"close\",\"close\",\"close\",\"close\",\"close\",\"close\",\"close\",\"close\",\"close\",\"close\",\"close\",\"close\",\"close\",\"close\",\"close\",\"close\",\"close\",\"close\",\"close\",\"close\",\"close\",\"close\",\"close\",\"close\",\"close\",\"close\",\"close\",\"close\",\"close\",\"close\",\"close\",\"close\"],\"date\":{\"__ndarray__\":\"AAAAz2iTdkIAAECXqZV2QgAAgF/ql3ZCAADAJyuadkIAAADwa5x2QgAAQLisnnZCAACAgO2gdkIAAAARb6V2QgAAQNmvp3ZCAACAofCpdkIAAMBpMax2QgAAADJyrnZCAABA+rKwdkIAAIDC87J2QgAAwIo0tXZCAAAAU3W3dkIAAEAbtrl2QgAAgOP2u3ZCAADAqze+dkIAAAB0eMB2QgAAQDy5wnZCAACABPrEdkIAAMDMOsd2QgAAAJV7yXZCAABAXbzLdkIAAIAl/c12QgAAwO090HZCAAAAtn7SdkIAAEB+v9R2QgAAgEYA13ZCAADADkHZdkIAAADXgdt2QgAAQJ/C3XZCAACAZwPgdkIAAMAvROJ2QgAAAPiE5HZCAABAwMXmdkIAAICIBul2QgAAwFBH63ZCAAAAGYjtdkIAAEDhyO92QgAAgKkJ8nZCAADAcUr0dkIAAAA6i/Z2QgAAQALM+HZCAACAygz7dkIAAMCSTf12QgAAAFuO/3ZC\",\"dtype\":\"float64\",\"order\":\"little\",\"shape\":[48]},\"value\":{\"__ndarray__\":\"H4XrUbjeRUA9CtejcJ1FQKRwPQrXQ0dA4XoUrkfhR0AfhetRuL5HQAAAAAAAoEhAXI/C9SjcSEAK16NwPYpJQLgehetReEpAZmZmZmamSEAAAAAAAKBHQB+F61G4XkZAw/UoXI/iRUCF61G4HsVHQLgehetRGEhAmpmZmZnZSEA9CtejcL1IQEjhehSuh0lACtejcD1qSUAzMzMzM1NJQLgehetR+ElA4XoUrkeBSUAAAAAAACBJQHE9Ctej0ElAFK5H4XpUSUC4HoXrURhKQClcj8L1qEpAuB6F61FYS0DXo3A9CjdLQHsUrkfhWktAAAAAAABgTEBmZmZmZoZNQM3MzMzMjE1AMzMzMzPTTkB7FK5H4fpPQMP1KFyPQlBAXI/C9SicUEBcj8L1KFxQQKRwPQrXs1BA7FG4HoXrUEDD9ShcjzJRQNejcD0Kd1FAzczMzMwcUkDXo3A9CpdSQIXrUbgeZVNA7FG4HoXrU0CF61G4HuVTQLgehetRWFNA\",\"dtype\":\"float64\",\"order\":\"little\",\"shape\":[48]}},\"selected\":{\"id\":\"1453\"},\"selection_policy\":{\"id\":\"1478\"}},\"id\":\"1452\",\"type\":\"ColumnDataSource\"},{\"attributes\":{},\"id\":\"1483\",\"type\":\"Selection\"},{\"attributes\":{\"text\":\"\",\"text_color\":{\"value\":\"black\"},\"text_font_size\":{\"value\":\"12pt\"}},\"id\":\"1419\",\"type\":\"Title\"},{\"attributes\":{\"click_policy\":\"mute\",\"items\":[{\"id\":\"1481\"},{\"id\":\"1512\"}],\"location\":[0,0],\"title\":\"Variable\"},\"id\":\"1480\",\"type\":\"Legend\"},{\"attributes\":{\"line_alpha\":0.2,\"line_color\":\"#1f77b3\",\"line_width\":2,\"x\":{\"field\":\"date\"},\"y\":{\"field\":\"value\"}},\"id\":\"1457\",\"type\":\"Line\"},{\"attributes\":{\"data\":{\"Variable\":[\"trend-worldwide\",\"trend-worldwide\",\"trend-worldwide\",\"trend-worldwide\",\"trend-worldwide\",\"trend-worldwide\",\"trend-worldwide\",\"trend-worldwide\",\"trend-worldwide\",\"trend-worldwide\",\"trend-worldwide\",\"trend-worldwide\",\"trend-worldwide\",\"trend-worldwide\",\"trend-worldwide\",\"trend-worldwide\",\"trend-worldwide\",\"trend-worldwide\",\"trend-worldwide\",\"trend-worldwide\",\"trend-worldwide\",\"trend-worldwide\",\"trend-worldwide\",\"trend-worldwide\",\"trend-worldwide\",\"trend-worldwide\",\"trend-worldwide\",\"trend-worldwide\",\"trend-worldwide\",\"trend-worldwide\",\"trend-worldwide\",\"trend-worldwide\",\"trend-worldwide\",\"trend-worldwide\",\"trend-worldwide\",\"trend-worldwide\",\"trend-worldwide\",\"trend-worldwide\",\"trend-worldwide\",\"trend-worldwide\",\"trend-worldwide\",\"trend-worldwide\",\"trend-worldwide\",\"trend-worldwide\",\"trend-worldwide\",\"trend-worldwide\",\"trend-worldwide\",\"trend-worldwide\"],\"date\":{\"__ndarray__\":\"AAAAz2iTdkIAAECXqZV2QgAAgF/ql3ZCAADAJyuadkIAAADwa5x2QgAAQLisnnZCAACAgO2gdkIAAAARb6V2QgAAQNmvp3ZCAACAofCpdkIAAMBpMax2QgAAADJyrnZCAABA+rKwdkIAAIDC87J2QgAAwIo0tXZCAAAAU3W3dkIAAEAbtrl2QgAAgOP2u3ZCAADAqze+dkIAAAB0eMB2QgAAQDy5wnZCAACABPrEdkIAAMDMOsd2QgAAAJV7yXZCAABAXbzLdkIAAIAl/c12QgAAwO090HZCAAAAtn7SdkIAAEB+v9R2QgAAgEYA13ZCAADADkHZdkIAAADXgdt2QgAAQJ/C3XZCAACAZwPgdkIAAMAvROJ2QgAAAPiE5HZCAABAwMXmdkIAAICIBul2QgAAwFBH63ZCAAAAGYjtdkIAAEDhyO92QgAAgKkJ8nZCAADAcUr0dkIAAAA6i/Z2QgAAQALM+HZCAACAygz7dkIAAMCSTf12QgAAAFuO/3ZC\",\"dtype\":\"float64\",\"order\":\"little\",\"shape\":[48]},\"value\":{\"__ndarray__\":\"AAAAAAAAO0AAAAAAAAA7QAAAAAAAADtAAAAAAAAAPkAAAAAAAABBQAAAAAAAAD1AAAAAAAAAO0AAAAAAAAA7QAAAAAAAADxAAAAAAAAAO0AAAAAAAAA7QAAAAAAAADxAAAAAAAAAO0AAAAAAAIBBQAAAAAAAAD5AAAAAAAAAPUAAAAAAAAA8QAAAAAAAADxAAAAAAAAAPEAAAAAAAAA+QAAAAAAAADxAAAAAAAAAPUAAAAAAAAA9QAAAAAAAAD5AAAAAAAAAPkAAAAAAAABIQAAAAAAAAFlAAAAAAADAV0AAAAAAAEBTQAAAAAAAgE5AAAAAAAAAQkAAAAAAAABCQAAAAAAAAEFAAAAAAACAQEAAAAAAAABDQAAAAAAAgEJAAAAAAACAQkAAAAAAAABCQAAAAAAAAEdAAAAAAAAAREAAAAAAAIBCQAAAAAAAAENAAAAAAAAAR0AAAAAAAABDQAAAAAAAAEFAAAAAAAAAQEAAAAAAAABAQAAAAAAAAD9A\",\"dtype\":\"float64\",\"order\":\"little\",\"shape\":[48]}},\"selected\":{\"id\":\"1483\"},\"selection_policy\":{\"id\":\"1510\"}},\"id\":\"1482\",\"type\":\"ColumnDataSource\"},{\"attributes\":{\"axis_label\":\"date\",\"bounds\":\"auto\",\"formatter\":{\"id\":\"1448\"},\"major_label_orientation\":\"horizontal\",\"ticker\":{\"id\":\"1428\"}},\"id\":\"1427\",\"type\":\"DatetimeAxis\"},{\"attributes\":{},\"id\":\"1439\",\"type\":\"ResetTool\"},{\"attributes\":{},\"id\":\"1448\",\"type\":\"DatetimeTickFormatter\"},{\"attributes\":{},\"id\":\"1477\",\"type\":\"YearsTicker\"},{\"attributes\":{},\"id\":\"1432\",\"type\":\"BasicTicker\"},{\"attributes\":{\"days\":[1,15]},\"id\":\"1472\",\"type\":\"DaysTicker\"},{\"attributes\":{\"below\":[{\"id\":\"1427\"}],\"center\":[{\"id\":\"1430\"},{\"id\":\"1434\"}],\"left\":[{\"id\":\"1431\"}],\"margin\":[5,5,5,5],\"min_border_bottom\":10,\"min_border_left\":10,\"min_border_right\":10,\"min_border_top\":10,\"plot_height\":300,\"plot_width\":700,\"renderers\":[{\"id\":\"1458\"},{\"id\":\"1488\"}],\"right\":[{\"id\":\"1480\"}],\"sizing_mode\":\"fixed\",\"title\":{\"id\":\"1419\"},\"toolbar\":{\"id\":\"1441\"},\"x_range\":{\"id\":\"1414\"},\"x_scale\":{\"id\":\"1423\"},\"y_range\":{\"id\":\"1415\"},\"y_scale\":{\"id\":\"1425\"}},\"id\":\"1418\",\"subtype\":\"Figure\",\"type\":\"Plot\"},{\"attributes\":{\"num_minor_ticks\":5,\"tickers\":[{\"id\":\"1466\"},{\"id\":\"1467\"},{\"id\":\"1468\"},{\"id\":\"1469\"},{\"id\":\"1470\"},{\"id\":\"1471\"},{\"id\":\"1472\"},{\"id\":\"1473\"},{\"id\":\"1474\"},{\"id\":\"1475\"},{\"id\":\"1476\"},{\"id\":\"1477\"}]},\"id\":\"1428\",\"type\":\"DatetimeTicker\"},{\"attributes\":{\"months\":[0,6]},\"id\":\"1476\",\"type\":\"MonthsTicker\"},{\"attributes\":{\"days\":[1,8,15,22]},\"id\":\"1471\",\"type\":\"DaysTicker\"},{\"attributes\":{\"line_alpha\":0.1,\"line_color\":\"#1f77b3\",\"line_width\":2,\"x\":{\"field\":\"date\"},\"y\":{\"field\":\"value\"}},\"id\":\"1456\",\"type\":\"Line\"},{\"attributes\":{},\"id\":\"1423\",\"type\":\"LinearScale\"},{\"attributes\":{\"months\":[0,1,2,3,4,5,6,7,8,9,10,11]},\"id\":\"1473\",\"type\":\"MonthsTicker\"},{\"attributes\":{\"months\":[0,2,4,6,8,10]},\"id\":\"1474\",\"type\":\"MonthsTicker\"},{\"attributes\":{\"axis\":{\"id\":\"1427\"},\"grid_line_color\":null,\"ticker\":null},\"id\":\"1430\",\"type\":\"Grid\"},{\"attributes\":{\"callback\":null,\"formatters\":{\"@{date}\":\"datetime\"},\"renderers\":[{\"id\":\"1458\"},{\"id\":\"1488\"}],\"tags\":[\"hv_created\"],\"tooltips\":[[\"Variable\",\"@{Variable}\"],[\"date\",\"@{date}{%F %T}\"],[\"value\",\"@{value}\"]]},\"id\":\"1416\",\"type\":\"HoverTool\"},{\"attributes\":{\"end\":1580428800000.0,\"reset_end\":1580428800000.0,\"reset_start\":1551398400000.0,\"start\":1551398400000.0,\"tags\":[[[\"date\",\"date\",null]]]},\"id\":\"1414\",\"type\":\"Range1d\"},{\"attributes\":{\"margin\":[5,5,5,5],\"name\":\"HSpacer01996\",\"sizing_mode\":\"stretch_width\"},\"id\":\"1711\",\"type\":\"Spacer\"},{\"attributes\":{\"axis\":{\"id\":\"1431\"},\"dimension\":1,\"grid_line_color\":null,\"ticker\":null},\"id\":\"1434\",\"type\":\"Grid\"},{\"attributes\":{\"data_source\":{\"id\":\"1452\"},\"glyph\":{\"id\":\"1455\"},\"hover_glyph\":null,\"muted_glyph\":{\"id\":\"1457\"},\"nonselection_glyph\":{\"id\":\"1456\"},\"selection_glyph\":null,\"view\":{\"id\":\"1459\"}},\"id\":\"1458\",\"type\":\"GlyphRenderer\"},{\"attributes\":{\"axis_label\":\"\",\"bounds\":\"auto\",\"formatter\":{\"id\":\"1450\"},\"major_label_orientation\":\"horizontal\",\"ticker\":{\"id\":\"1432\"}},\"id\":\"1431\",\"type\":\"LinearAxis\"},{\"attributes\":{\"line_color\":\"#ff7e0e\",\"line_width\":2,\"x\":{\"field\":\"date\"},\"y\":{\"field\":\"value\"}},\"id\":\"1485\",\"type\":\"Line\"}],\"root_ids\":[\"1412\"]},\"title\":\"Bokeh Application\",\"version\":\"2.2.3\"}};\n",
       "    var render_items = [{\"docid\":\"368861e8-8f11-40b1-9596-0c6e922da84d\",\"root_ids\":[\"1412\"],\"roots\":{\"1412\":\"ed0a1260-c744-462e-8c3c-c2abd9443124\"}}];\n",
       "    root.Bokeh.embed.embed_items_notebook(docs_json, render_items);\n",
       "  }\n",
       "  if (root.Bokeh !== undefined && root.Bokeh.Panel !== undefined) {\n",
       "    embed_document(root);\n",
       "  } else {\n",
       "    var attempts = 0;\n",
       "    var timer = setInterval(function(root) {\n",
       "      if (root.Bokeh !== undefined && root.Bokeh.Panel !== undefined) {\n",
       "        clearInterval(timer);\n",
       "        embed_document(root);\n",
       "      } else if (document.readyState == \"complete\") {\n",
       "        attempts++;\n",
       "        if (attempts > 100) {\n",
       "          clearInterval(timer);\n",
       "          console.log(\"Bokeh: ERROR: Unable to run BokehJS code because BokehJS library is missing\");\n",
       "        }\n",
       "      }\n",
       "    }, 10, root)\n",
       "  }\n",
       "})(window);</script>"
      ],
      "text/plain": [
       ":NdOverlay   [Variable]\n",
       "   :Curve   [date]   (value)"
      ]
     },
     "execution_count": 7,
     "metadata": {
      "application/vnd.holoviews_exec.v0+json": {
       "id": "1412"
      }
     },
     "output_type": "execute_result"
    }
   ],
   "source": [
    "# Use hvPlot to visualize the df_spotlight DataFrame\n",
    "# YOUR CODE HERE\n"
   ]
  },
  {
   "cell_type": "markdown",
   "metadata": {},
   "source": [
    "### Step 4: Before seeking any correlations between these time series, add columns to the `df_apple` DataFrame to analyze the impact of the Google Trends data on the weekly returns and stock volatility, as follows:\n",
    "\n",
    "1. Use the Pandas `shift` function to add a new column that lags the Google Trends data by one period.\n",
    "\n",
    "    > **Hint** Google Trends data is reported every week on Sunday, so you have a weekly period in this time series.\n",
    "\n",
    "2. Use the Pandas `pct_change` function to add a new column that has the weekly price returns.\n",
    "\n",
    "3. Compute the rolling stock volatility for Apple by using the following Pandas method:\n",
    "\n",
    "    `df_apple[\"weekly_volatility\"] = df_apple[\"close\"].pct_change().rolling(window=4).std()`\n"
   ]
  },
  {
   "cell_type": "code",
   "execution_count": null,
   "metadata": {},
   "outputs": [],
   "source": [
    "# Create a column which lags Google trends by one week\n",
    "# Use the shift function, and move the data down by one row\n",
    "df_apple[\"lagged_trends\"] = # YOUR CODE HERE\n"
   ]
  },
  {
   "cell_type": "code",
   "execution_count": null,
   "metadata": {},
   "outputs": [],
   "source": [
    "# Create a column that contains the Apple weekly return data\n",
    "# Use the pct_change function to calculate the weekly return values\n",
    "df_apple[\"weekly_returns\"] = # YOUR CODE HERE\n"
   ]
  },
  {
   "cell_type": "code",
   "execution_count": null,
   "metadata": {},
   "outputs": [],
   "source": [
    "# Create a column of Apple weekly rolling stock volatility \n",
    "# Chain the pct_function, the rolling function and a 4 period window, and the std function \n",
    "df_apple[\"weekly_volatility\"] = # YOUR CODE HERE\n"
   ]
  },
  {
   "cell_type": "code",
   "execution_count": null,
   "metadata": {},
   "outputs": [
    {
     "data": {
      "text/html": [
       "<div>\n",
       "<style scoped>\n",
       "    .dataframe tbody tr th:only-of-type {\n",
       "        vertical-align: middle;\n",
       "    }\n",
       "\n",
       "    .dataframe tbody tr th {\n",
       "        vertical-align: top;\n",
       "    }\n",
       "\n",
       "    .dataframe thead th {\n",
       "        text-align: right;\n",
       "    }\n",
       "</style>\n",
       "<table border=\"1\" class=\"dataframe\">\n",
       "  <thead>\n",
       "    <tr style=\"text-align: right;\">\n",
       "      <th></th>\n",
       "      <th>close</th>\n",
       "      <th>trend-worldwide</th>\n",
       "      <th>lagged_trends</th>\n",
       "      <th>weekly_returns</th>\n",
       "      <th>weekly_volatility</th>\n",
       "    </tr>\n",
       "    <tr>\n",
       "      <th>date</th>\n",
       "      <th></th>\n",
       "      <th></th>\n",
       "      <th></th>\n",
       "      <th></th>\n",
       "      <th></th>\n",
       "    </tr>\n",
       "  </thead>\n",
       "  <tbody>\n",
       "    <tr>\n",
       "      <th>2015-10-23</th>\n",
       "      <td>29.77</td>\n",
       "      <td>32.0</td>\n",
       "      <td>NaN</td>\n",
       "      <td>NaN</td>\n",
       "      <td>NaN</td>\n",
       "    </tr>\n",
       "    <tr>\n",
       "      <th>2015-10-30</th>\n",
       "      <td>29.88</td>\n",
       "      <td>33.0</td>\n",
       "      <td>32.0</td>\n",
       "      <td>0.003695</td>\n",
       "      <td>NaN</td>\n",
       "    </tr>\n",
       "    <tr>\n",
       "      <th>2015-11-06</th>\n",
       "      <td>30.27</td>\n",
       "      <td>32.0</td>\n",
       "      <td>33.0</td>\n",
       "      <td>0.013052</td>\n",
       "      <td>NaN</td>\n",
       "    </tr>\n",
       "    <tr>\n",
       "      <th>2015-11-13</th>\n",
       "      <td>28.09</td>\n",
       "      <td>32.0</td>\n",
       "      <td>32.0</td>\n",
       "      <td>-0.072019</td>\n",
       "      <td>NaN</td>\n",
       "    </tr>\n",
       "    <tr>\n",
       "      <th>2015-11-20</th>\n",
       "      <td>29.83</td>\n",
       "      <td>31.0</td>\n",
       "      <td>32.0</td>\n",
       "      <td>0.061944</td>\n",
       "      <td>0.055367</td>\n",
       "    </tr>\n",
       "  </tbody>\n",
       "</table>\n",
       "</div>"
      ],
      "text/plain": [
       "            close  trend-worldwide  lagged_trends  weekly_returns  \\\n",
       "date                                                                \n",
       "2015-10-23  29.77             32.0            NaN             NaN   \n",
       "2015-10-30  29.88             33.0           32.0        0.003695   \n",
       "2015-11-06  30.27             32.0           33.0        0.013052   \n",
       "2015-11-13  28.09             32.0           32.0       -0.072019   \n",
       "2015-11-20  29.83             31.0           32.0        0.061944   \n",
       "\n",
       "            weekly_volatility  \n",
       "date                           \n",
       "2015-10-23                NaN  \n",
       "2015-10-30                NaN  \n",
       "2015-11-06                NaN  \n",
       "2015-11-13                NaN  \n",
       "2015-11-20           0.055367  "
      ]
     },
     "execution_count": 11,
     "metadata": {},
     "output_type": "execute_result"
    }
   ],
   "source": [
    "# Display the df_apple DataFrame to confirm all columns are present\n",
    "# YOUR CODE HERE\n"
   ]
  },
  {
   "cell_type": "markdown",
   "metadata": {},
   "source": [
    "### Step 5: Use the Pandas `corr` function to compute the correlations among the lagged Google Trends data, the price returns, and the stock volatility. Does any predictable relationship exist?"
   ]
  },
  {
   "cell_type": "code",
   "execution_count": null,
   "metadata": {},
   "outputs": [
    {
     "data": {
      "text/html": [
       "<div>\n",
       "<style scoped>\n",
       "    .dataframe tbody tr th:only-of-type {\n",
       "        vertical-align: middle;\n",
       "    }\n",
       "\n",
       "    .dataframe tbody tr th {\n",
       "        vertical-align: top;\n",
       "    }\n",
       "\n",
       "    .dataframe thead th {\n",
       "        text-align: right;\n",
       "    }\n",
       "</style>\n",
       "<table border=\"1\" class=\"dataframe\">\n",
       "  <thead>\n",
       "    <tr style=\"text-align: right;\">\n",
       "      <th></th>\n",
       "      <th>lagged_trends</th>\n",
       "      <th>weekly_returns</th>\n",
       "      <th>weekly_volatility</th>\n",
       "    </tr>\n",
       "  </thead>\n",
       "  <tbody>\n",
       "    <tr>\n",
       "      <th>lagged_trends</th>\n",
       "      <td>1.000000</td>\n",
       "      <td>0.026701</td>\n",
       "      <td>0.004911</td>\n",
       "    </tr>\n",
       "    <tr>\n",
       "      <th>weekly_returns</th>\n",
       "      <td>0.026701</td>\n",
       "      <td>1.000000</td>\n",
       "      <td>0.086676</td>\n",
       "    </tr>\n",
       "    <tr>\n",
       "      <th>weekly_volatility</th>\n",
       "      <td>0.004911</td>\n",
       "      <td>0.086676</td>\n",
       "      <td>1.000000</td>\n",
       "    </tr>\n",
       "  </tbody>\n",
       "</table>\n",
       "</div>"
      ],
      "text/plain": [
       "                   lagged_trends  weekly_returns  weekly_volatility\n",
       "lagged_trends           1.000000        0.026701           0.004911\n",
       "weekly_returns          0.026701        1.000000           0.086676\n",
       "weekly_volatility       0.004911        0.086676           1.000000"
      ]
     },
     "execution_count": 12,
     "metadata": {},
     "output_type": "execute_result"
    }
   ],
   "source": [
    "# Use the corr function to compute the correlation between the lagged Google Trends data, price returns, and stock volatility\n",
    "# YOUR CODE HERE\n"
   ]
  },
  {
   "cell_type": "code",
   "execution_count": null,
   "metadata": {},
   "outputs": [],
   "source": []
  }
 ],
 "metadata": {
  "interpreter": {
   "hash": "03db2e40baedd816844418f8022bfa5231b95c4473a61732e59e58f921326353"
  },
  "kernelspec": {
   "display_name": "Python 3.7.11 ('dev')",
   "language": "python",
   "name": "python3"
  },
  "language_info": {
   "codemirror_mode": {
    "name": "ipython",
    "version": 3
   },
   "file_extension": ".py",
   "mimetype": "text/x-python",
   "name": "python",
   "nbconvert_exporter": "python",
   "pygments_lexer": "ipython3",
   "version": "3.7.11"
  }
 },
 "nbformat": 4,
 "nbformat_minor": 4
}
